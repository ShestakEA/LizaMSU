{
 "cells": [
  {
   "cell_type": "code",
   "execution_count": 2,
   "metadata": {},
   "outputs": [
    {
     "name": "stdout",
     "output_type": "stream",
     "text": [
      "[[0.30600819 0.15858429 0.03225206]\n",
      " [0.18476441 0.42155672 0.14225339]\n",
      " [0.3675932  0.1204723  0.02367549]\n",
      " [0.20060134 0.31482279 0.09615829]\n",
      " [0.82169714 0.50533184 0.74379058]\n",
      " [0.64541495 0.14357348 0.52159697]\n",
      " [0.64208709 0.93782709 0.22533235]\n",
      " [0.96996603 0.98543293 0.27322815]\n",
      " [0.6371265  0.29666373 0.71519361]\n",
      " [0.7616212  0.39243377 0.11628041]]\n",
      "\n",
      "\n",
      "[0.30600819 0.42155672 0.3675932  0.31482279 0.50533184 0.52159697\n",
      " 0.64208709 0.27322815 0.6371265  0.39243377]\n"
     ]
    }
   ],
   "source": [
    "# Exercise 1\n",
    "import numpy as np\n",
    "\n",
    "a = np.random.random((10, 3))\n",
    "print(a)\n",
    "print('\\n')\n",
    "print(a.reshape(30)[abs(a-0.5).argmin(axis=1) + np.arange(0,10)*3])"
   ]
  },
  {
   "cell_type": "code",
   "execution_count": 2,
   "metadata": {},
   "outputs": [
    {
     "name": "stdout",
     "output_type": "stream",
     "text": [
      "[[0.31554157 0.40604814 0.55693457 0.01967101 0.90612223 0.45055547]\n",
      " [0.50486929 0.88174109 0.17107983 0.06364005 0.6922359  0.87897107]\n",
      " [0.34575383 0.16882764 0.19970126 0.18773759 0.02841387 0.17453497]\n",
      " [0.61724591 0.38661905 0.92629629 0.98525306 0.37045843 0.81470794]\n",
      " [0.19716948 0.07913244 0.28525852 0.9640591  0.08529564 0.51747344]\n",
      " [0.5170088  0.20903967 0.65323419 0.25039527 0.47313964 0.2377866 ]]\n",
      "\n",
      "\n",
      "[ 13.46492875  40.34422967   6.45879276 208.45809813  74.90668338\n",
      "  13.41051709]\n"
     ]
    }
   ],
   "source": [
    "# Exercise 2\n",
    "a = np.random.random((6, 6))\n",
    "print(a)\n",
    "print('\\n')\n",
    "print(np.dot(np.diag(np.sum(a,axis=1)),1/np.min(a, axis=0)))"
   ]
  },
  {
   "cell_type": "code",
   "execution_count": 3,
   "metadata": {},
   "outputs": [
    {
     "name": "stdout",
     "output_type": "stream",
     "text": [
      "5\n"
     ]
    }
   ],
   "source": [
    "# Exercise 3\n",
    "x = np.array([6, 2, 0, 3, 0, 0, 5, 7, 0])\n",
    "print(np.max(x[np.arange(8)[(x==0)[:-1]]+1]))"
   ]
  },
  {
   "cell_type": "code",
   "execution_count": 4,
   "metadata": {},
   "outputs": [
    {
     "name": "stdout",
     "output_type": "stream",
     "text": [
      "[2. 2. 2. 2. 1. 4. 1. 1. 2. 1.]\n"
     ]
    }
   ],
   "source": [
    "# Exercise 4\n",
    "x = np.ones(10)\n",
    "i = np.array([0, 1, 2, 3, 5, 5, 5, 8])\n",
    "x[i] = x[i] + np.bincount(i)[i]\n",
    "print(x)"
   ]
  },
  {
   "cell_type": "code",
   "execution_count": 5,
   "metadata": {
    "scrolled": true
   },
   "outputs": [
    {
     "name": "stdout",
     "output_type": "stream",
     "text": [
      "[[ 0  1  2  3  4  5]\n",
      " [ 6  7  8  9 10 11]\n",
      " [12 13 14 15 16 17]\n",
      " [18 19 20 21 22 23]\n",
      " [24 25 26 27 28 29]\n",
      " [30 31 32 33 34 35]]\n",
      "{0: array([0]), 1: array([1, 6]), 2: array([ 2,  7, 12]), 3: array([ 3,  8, 13, 18]), 4: array([ 4,  9, 14, 19, 24]), 5: array([ 5, 10, 15, 20, 25, 30]), 6: array([11, 16, 21, 26, 31]), 7: array([17, 22, 27, 32]), 8: array([23, 28, 33]), 9: array([29, 34]), 10: array([35])}\n"
     ]
    }
   ],
   "source": [
    "# Exercise 5\n",
    "n = 6\n",
    "a = np.arange(n*n).reshape(n,n) # Could be any (n,n) matrix\n",
    "print(a)\n",
    "d = {s: a.reshape(n*n)[max(s,s+max(0,s-n+1)*(n-1)):min(n*s+1,n*n):n-1] for s in range(2*n-1)}\n",
    "print(d)"
   ]
  },
  {
   "cell_type": "code",
   "execution_count": 6,
   "metadata": {
    "scrolled": false
   },
   "outputs": [
    {
     "data": {
      "image/png": "[encoded data removed]",
      "text/plain": [
       "<Figure size 432x288 with 1 Axes>"
      ]
     },
     "metadata": {},
     "output_type": "display_data"
    },
    {
     "ename": "NameError",
     "evalue": "name 'labels' is not defined",
     "output_type": "error",
     "traceback": [
      "\u001b[0;31m---------------------------------------------------------------------------\u001b[0m",
      "\u001b[0;31mNameError\u001b[0m                                 Traceback (most recent call last)",
      "\u001b[0;32m<ipython-input-6-6211f24731d6>\u001b[0m in \u001b[0;36m<module>\u001b[0;34m()\u001b[0m\n\u001b[1;32m     42\u001b[0m \u001b[0ms\u001b[0m \u001b[0;34m=\u001b[0m \u001b[0mk_means\u001b[0m\u001b[0;34m(\u001b[0m\u001b[0mobs\u001b[0m\u001b[0;34m,\u001b[0m \u001b[0;36m2\u001b[0m\u001b[0;34m,\u001b[0m \u001b[0;36m100\u001b[0m\u001b[0;34m,\u001b[0m \u001b[0;36m1e-5\u001b[0m\u001b[0;34m)\u001b[0m\u001b[0;34m\u001b[0m\u001b[0m\n\u001b[1;32m     43\u001b[0m \u001b[0;32mimport\u001b[0m \u001b[0mmatplotlib\u001b[0m\u001b[0;34m.\u001b[0m\u001b[0mpyplot\u001b[0m \u001b[0;32mas\u001b[0m \u001b[0mplt\u001b[0m\u001b[0;34m\u001b[0m\u001b[0m\n\u001b[0;32m---> 44\u001b[0;31m \u001b[0mplt\u001b[0m\u001b[0;34m.\u001b[0m\u001b[0mscatter\u001b[0m\u001b[0;34m(\u001b[0m\u001b[0;34m*\u001b[0m\u001b[0mobs\u001b[0m\u001b[0;34m.\u001b[0m\u001b[0mT\u001b[0m\u001b[0;34m,\u001b[0m \u001b[0mc\u001b[0m\u001b[0;34m=\u001b[0m\u001b[0mnp\u001b[0m\u001b[0;34m.\u001b[0m\u001b[0mwhere\u001b[0m\u001b[0;34m(\u001b[0m\u001b[0mlabels\u001b[0m\u001b[0;34m,\u001b[0m \u001b[0;34m\"green\"\u001b[0m\u001b[0;34m,\u001b[0m \u001b[0;34m\"red\"\u001b[0m\u001b[0;34m)\u001b[0m\u001b[0;34m,\u001b[0m \u001b[0ms\u001b[0m\u001b[0;34m=\u001b[0m\u001b[0;36m80\u001b[0m\u001b[0;34m)\u001b[0m\u001b[0;34m\u001b[0m\u001b[0m\n\u001b[0m\u001b[1;32m     45\u001b[0m \u001b[0mplt\u001b[0m\u001b[0;34m.\u001b[0m\u001b[0mscatter\u001b[0m\u001b[0;34m(\u001b[0m\u001b[0;34m*\u001b[0m\u001b[0mcodebook\u001b[0m\u001b[0;34m.\u001b[0m\u001b[0mT\u001b[0m\u001b[0;34m,\u001b[0m \u001b[0mc\u001b[0m\u001b[0;34m=\u001b[0m\u001b[0;34m[\u001b[0m\u001b[0;34m\"red\"\u001b[0m\u001b[0;34m,\u001b[0m \u001b[0;34m\"green\"\u001b[0m\u001b[0;34m]\u001b[0m\u001b[0;34m,\u001b[0m \u001b[0ms\u001b[0m\u001b[0;34m=\u001b[0m\u001b[0;36m95\u001b[0m\u001b[0;34m,\u001b[0m \u001b[0medgecolor\u001b[0m\u001b[0;34m=\u001b[0m\u001b[0;34m'yellow'\u001b[0m\u001b[0;34m)\u001b[0m\u001b[0;34m\u001b[0m\u001b[0m\n\u001b[1;32m     46\u001b[0m \u001b[0mplt\u001b[0m\u001b[0;34m.\u001b[0m\u001b[0mtitle\u001b[0m\u001b[0;34m(\u001b[0m\u001b[0;34m'One K-Means Iteration: Predicted Classes'\u001b[0m\u001b[0;34m)\u001b[0m\u001b[0;34m\u001b[0m\u001b[0m\n",
      "\u001b[0;31mNameError\u001b[0m: name 'labels' is not defined"
     ]
    }
   ],
   "source": [
    "# Exercise 6\n",
    "\n",
    "def get_labels(X, centroids):\n",
    "    return np.argmin(np.linalg.norm(X - centroids[:, None], axis=2), axis=0)\n",
    "\n",
    "def k_means(obs, k_or_guess, iter, thresh):\n",
    "    \n",
    "    if type(k_or_guess) is int:\n",
    "        codebook = np.array(obs[:k_or_guess])\n",
    "        k = k_or_guess\n",
    "    else:\n",
    "        codebook = k_or_guess\n",
    "        k = k_or_guess.shape[0]\n",
    "    \n",
    "    s = 0\n",
    "    distortion1 = 0\n",
    "    distortion = 1\n",
    "    labels = get_labels(obs, codebook)\n",
    "\n",
    "    while(abs(distortion - distortion1) > thresh):\n",
    "        distortion1 = distortion\n",
    "        for j in range(k):\n",
    "            codebook[j] = np.mean(obs[labels==j], axis=0)\n",
    "        labels = get_labels(obs, codebook)\n",
    "        distortion = np.sum(np.linalg.norm(obs - codebook[labels], axis = 1))\n",
    "        s += 1\n",
    "        if s == iter:\n",
    "            break\n",
    "        \n",
    "    import matplotlib.pyplot as plt\n",
    "    plt.scatter(*obs.T, c=np.where(labels, \"green\", \"red\"), s=80)\n",
    "    plt.scatter(*codebook.T, c=[\"red\", \"green\"], s=95, edgecolor='yellow')\n",
    "    plt.title('One K-Means Iteration: Predicted Classes')\n",
    "    plt.show()\n",
    "    return [codebook, distortion]\n",
    "\n",
    "\n",
    "\n",
    "obs = np.repeat(np.array([[1,1], [10,1], [1,10], [10,10]]), 10, axis=0)\n",
    "obs = obs + np.random.randn(*obs.shape)\n",
    "\n",
    "s = k_means(obs, 2, 100, 1e-5)\n",
    "import matplotlib.pyplot as plt\n",
    "plt.scatter(*obs.T, c=np.where(labels, \"green\", \"red\"), s=80)\n",
    "plt.scatter(*codebook.T, c=[\"red\", \"green\"], s=95, edgecolor='yellow')\n",
    "plt.title('One K-Means Iteration: Predicted Classes')\n",
    "plt.show()"
   ]
  },
  {
   "cell_type": "code",
   "execution_count": null,
   "metadata": {},
   "outputs": [],
   "source": []
  },
  {
   "cell_type": "code",
   "execution_count": null,
   "metadata": {},
   "outputs": [],
   "source": []
  }
 ],
 "metadata": {
  "kernelspec": {
   "display_name": "Python 3",
   "language": "python",
   "name": "python3"
  },
  "language_info": {
   "codemirror_mode": {
    "name": "ipython",
    "version": 3
   },
   "file_extension": ".py",
   "mimetype": "text/x-python",
   "name": "python",
   "nbconvert_exporter": "python",
   "pygments_lexer": "ipython3",
   "version": "3.7.1"
  }
 },
 "nbformat": 4,
 "nbformat_minor": 2
}
