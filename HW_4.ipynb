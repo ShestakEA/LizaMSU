{
 "cells": [
  {
   "cell_type": "code",
   "execution_count": 1,
   "metadata": {},
   "outputs": [],
   "source": [
    "import numpy as np\n",
    "import pandas as pd\n",
    "import matplotlib.pyplot as plt"
   ]
  },
  {
   "cell_type": "code",
   "execution_count": 2,
   "metadata": {},
   "outputs": [],
   "source": [
    "url='https://raw.githubusercontent.com/justmarkham/DAT8/master/data/chipotle.tsv'\n",
    "df=pd.read_csv(url, sep = '\\t')"
   ]
  },
  {
   "cell_type": "code",
   "execution_count": 3,
   "metadata": {},
   "outputs": [
    {
     "data": {
      "text/html": [
       "<div>\n",
       "<style scoped>\n",
       "    .dataframe tbody tr th:only-of-type {\n",
       "        vertical-align: middle;\n",
       "    }\n",
       "\n",
       "    .dataframe tbody tr th {\n",
       "        vertical-align: top;\n",
       "    }\n",
       "\n",
       "    .dataframe thead th {\n",
       "        text-align: right;\n",
       "    }\n",
       "</style>\n",
       "<table border=\"1\" class=\"dataframe\">\n",
       "  <thead>\n",
       "    <tr style=\"text-align: right;\">\n",
       "      <th></th>\n",
       "      <th>order_id</th>\n",
       "      <th>quantity</th>\n",
       "      <th>item_name</th>\n",
       "      <th>choice_description</th>\n",
       "      <th>item_price</th>\n",
       "    </tr>\n",
       "  </thead>\n",
       "  <tbody>\n",
       "    <tr>\n",
       "      <th>0</th>\n",
       "      <td>1</td>\n",
       "      <td>1</td>\n",
       "      <td>Chips and Fresh Tomato Salsa</td>\n",
       "      <td>NaN</td>\n",
       "      <td>$2.39</td>\n",
       "    </tr>\n",
       "    <tr>\n",
       "      <th>1</th>\n",
       "      <td>1</td>\n",
       "      <td>1</td>\n",
       "      <td>Izze</td>\n",
       "      <td>[Clementine]</td>\n",
       "      <td>$3.39</td>\n",
       "    </tr>\n",
       "    <tr>\n",
       "      <th>2</th>\n",
       "      <td>1</td>\n",
       "      <td>1</td>\n",
       "      <td>Nantucket Nectar</td>\n",
       "      <td>[Apple]</td>\n",
       "      <td>$3.39</td>\n",
       "    </tr>\n",
       "    <tr>\n",
       "      <th>3</th>\n",
       "      <td>1</td>\n",
       "      <td>1</td>\n",
       "      <td>Chips and Tomatillo-Green Chili Salsa</td>\n",
       "      <td>NaN</td>\n",
       "      <td>$2.39</td>\n",
       "    </tr>\n",
       "    <tr>\n",
       "      <th>4</th>\n",
       "      <td>2</td>\n",
       "      <td>2</td>\n",
       "      <td>Chicken Bowl</td>\n",
       "      <td>[Tomatillo-Red Chili Salsa (Hot), [Black Beans...</td>\n",
       "      <td>$16.98</td>\n",
       "    </tr>\n",
       "    <tr>\n",
       "      <th>5</th>\n",
       "      <td>3</td>\n",
       "      <td>1</td>\n",
       "      <td>Chicken Bowl</td>\n",
       "      <td>[Fresh Tomato Salsa (Mild), [Rice, Cheese, Sou...</td>\n",
       "      <td>$10.98</td>\n",
       "    </tr>\n",
       "    <tr>\n",
       "      <th>6</th>\n",
       "      <td>3</td>\n",
       "      <td>1</td>\n",
       "      <td>Side of Chips</td>\n",
       "      <td>NaN</td>\n",
       "      <td>$1.69</td>\n",
       "    </tr>\n",
       "    <tr>\n",
       "      <th>7</th>\n",
       "      <td>4</td>\n",
       "      <td>1</td>\n",
       "      <td>Steak Burrito</td>\n",
       "      <td>[Tomatillo Red Chili Salsa, [Fajita Vegetables...</td>\n",
       "      <td>$11.75</td>\n",
       "    </tr>\n",
       "    <tr>\n",
       "      <th>8</th>\n",
       "      <td>4</td>\n",
       "      <td>1</td>\n",
       "      <td>Steak Soft Tacos</td>\n",
       "      <td>[Tomatillo Green Chili Salsa, [Pinto Beans, Ch...</td>\n",
       "      <td>$9.25</td>\n",
       "    </tr>\n",
       "    <tr>\n",
       "      <th>9</th>\n",
       "      <td>5</td>\n",
       "      <td>1</td>\n",
       "      <td>Steak Burrito</td>\n",
       "      <td>[Fresh Tomato Salsa, [Rice, Black Beans, Pinto...</td>\n",
       "      <td>$9.25</td>\n",
       "    </tr>\n",
       "  </tbody>\n",
       "</table>\n",
       "</div>"
      ],
      "text/plain": [
       "   order_id  quantity                              item_name  \\\n",
       "0         1         1           Chips and Fresh Tomato Salsa   \n",
       "1         1         1                                   Izze   \n",
       "2         1         1                       Nantucket Nectar   \n",
       "3         1         1  Chips and Tomatillo-Green Chili Salsa   \n",
       "4         2         2                           Chicken Bowl   \n",
       "5         3         1                           Chicken Bowl   \n",
       "6         3         1                          Side of Chips   \n",
       "7         4         1                          Steak Burrito   \n",
       "8         4         1                       Steak Soft Tacos   \n",
       "9         5         1                          Steak Burrito   \n",
       "\n",
       "                                  choice_description item_price  \n",
       "0                                                NaN     $2.39   \n",
       "1                                       [Clementine]     $3.39   \n",
       "2                                            [Apple]     $3.39   \n",
       "3                                                NaN     $2.39   \n",
       "4  [Tomatillo-Red Chili Salsa (Hot), [Black Beans...    $16.98   \n",
       "5  [Fresh Tomato Salsa (Mild), [Rice, Cheese, Sou...    $10.98   \n",
       "6                                                NaN     $1.69   \n",
       "7  [Tomatillo Red Chili Salsa, [Fajita Vegetables...    $11.75   \n",
       "8  [Tomatillo Green Chili Salsa, [Pinto Beans, Ch...     $9.25   \n",
       "9  [Fresh Tomato Salsa, [Rice, Black Beans, Pinto...     $9.25   "
      ]
     },
     "execution_count": 3,
     "metadata": {},
     "output_type": "execute_result"
    }
   ],
   "source": [
    "df.head(10)"
   ]
  },
  {
   "cell_type": "code",
   "execution_count": 4,
   "metadata": {},
   "outputs": [
    {
     "data": {
      "text/plain": [
       "5"
      ]
     },
     "execution_count": 4,
     "metadata": {},
     "output_type": "execute_result"
    }
   ],
   "source": [
    "len(df.columns)"
   ]
  },
  {
   "cell_type": "code",
   "execution_count": 5,
   "metadata": {},
   "outputs": [
    {
     "name": "stdout",
     "output_type": "stream",
     "text": [
      "quantity    761\n",
      "Name: Chicken Bowl, dtype: int64\n"
     ]
    }
   ],
   "source": [
    "#самый заказываемый продукт\n",
    "total_stats = pd.pivot_table(df, aggfunc = sum, index = 'item_name', values = 'quantity')\n",
    "print(total_stats.loc[total_stats['quantity'].idxmax()])"
   ]
  },
  {
   "cell_type": "code",
   "execution_count": 6,
   "metadata": {},
   "outputs": [
    {
     "data": {
      "text/plain": [
       "4622"
      ]
     },
     "execution_count": 6,
     "metadata": {},
     "output_type": "execute_result"
    }
   ],
   "source": [
    "len(df.index)"
   ]
  },
  {
   "cell_type": "code",
   "execution_count": 7,
   "metadata": {},
   "outputs": [
    {
     "name": "stdout",
     "output_type": "stream",
     "text": [
      "всвего было продано 50 различных товаров\n"
     ]
    }
   ],
   "source": [
    "#сколько различного товра было продано\n",
    "print(\"всвего было продано\",len(total_stats.index),\"различных товаров\")"
   ]
  },
  {
   "cell_type": "code",
   "execution_count": 8,
   "metadata": {},
   "outputs": [
    {
     "name": "stdout",
     "output_type": "stream",
     "text": [
      "Всего заказали 4972\n"
     ]
    }
   ],
   "source": [
    "#сколько всего заказали товаров\n",
    "print(\"Всего заказали\",df['quantity'].sum())"
   ]
  },
  {
   "cell_type": "code",
   "execution_count": 9,
   "metadata": {},
   "outputs": [],
   "source": [
    "df['item_price']=df['item_price'].str.replace('$',' ')"
   ]
  },
  {
   "cell_type": "code",
   "execution_count": 10,
   "metadata": {},
   "outputs": [
    {
     "data": {
      "text/plain": [
       "dtype('float64')"
      ]
     },
     "execution_count": 10,
     "metadata": {},
     "output_type": "execute_result"
    }
   ],
   "source": [
    "#перевели во float\n",
    "df.item_price = df.item_price.astype(float)\n",
    "df['item_price'].dtypes"
   ]
  },
  {
   "cell_type": "code",
   "execution_count": 11,
   "metadata": {},
   "outputs": [
    {
     "name": "stdout",
     "output_type": "stream",
     "text": [
      "item_name\n",
      "6 Pack Soft Drink                         6.610185\n",
      "Barbacoa Bowl                            10.187273\n",
      "Barbacoa Burrito                          9.832418\n",
      "Barbacoa Crispy Tacos                    10.928182\n",
      "Barbacoa Salad Bowl                      10.640000\n",
      "Barbacoa Soft Tacos                      10.018400\n",
      "Bottled Water                             1.867654\n",
      "Bowl                                     14.800000\n",
      "Burrito                                   7.400000\n",
      "Canned Soda                               1.320577\n",
      "Canned Soft Drink                         1.457641\n",
      "Carnitas Bowl                            10.833971\n",
      "Carnitas Burrito                         10.132712\n",
      "Carnitas Crispy Tacos                    11.137143\n",
      "Carnitas Salad                            8.990000\n",
      "Carnitas Salad Bowl                      11.056667\n",
      "Carnitas Soft Tacos                       9.398500\n",
      "Chicken Bowl                             10.113953\n",
      "Chicken Burrito                          10.082857\n",
      "Chicken Crispy Tacos                     10.045319\n",
      "Chicken Salad                             9.010000\n",
      "Chicken Salad Bowl                       11.170455\n",
      "Chicken Soft Tacos                        9.635565\n",
      "Chips                                     2.342844\n",
      "Chips and Fresh Tomato Salsa              3.285091\n",
      "Chips and Guacamole                       4.595073\n",
      "Chips and Mild Fresh Tomato Salsa         3.000000\n",
      "Chips and Roasted Chili Corn Salsa        3.084091\n",
      "Chips and Roasted Chili-Corn Salsa        2.390000\n",
      "Chips and Tomatillo Green Chili Salsa     3.087209\n",
      "Chips and Tomatillo Red Chili Salsa       3.072917\n",
      "Chips and Tomatillo-Green Chili Salsa     2.544194\n",
      "Chips and Tomatillo-Red Chili Salsa       2.987500\n",
      "Crispy Tacos                              7.400000\n",
      "Izze                                      3.390000\n",
      "Nantucket Nectar                          3.641111\n",
      "Salad                                     7.400000\n",
      "Side of Chips                             1.840594\n",
      "Steak Bowl                               10.711801\n",
      "Steak Burrito                            10.465842\n",
      "Steak Crispy Tacos                       10.209714\n",
      "Steak Salad                               8.915000\n",
      "Steak Salad Bowl                         11.847931\n",
      "Steak Soft Tacos                          9.746364\n",
      "Veggie Bowl                              10.211647\n",
      "Veggie Burrito                            9.839684\n",
      "Veggie Crispy Tacos                       8.490000\n",
      "Veggie Salad                              8.490000\n",
      "Veggie Salad Bowl                        10.138889\n",
      "Veggie Soft Tacos                        10.565714\n",
      "Name: item_price, dtype: float64\n"
     ]
    }
   ],
   "source": [
    "#цена каждого товара\n",
    "print(df.groupby(['item_name'])['item_price'].mean())"
   ]
  },
  {
   "cell_type": "code",
   "execution_count": 12,
   "metadata": {},
   "outputs": [
    {
     "data": {
      "text/plain": [
       "34500.16"
      ]
     },
     "execution_count": 12,
     "metadata": {},
     "output_type": "execute_result"
    }
   ],
   "source": [
    "#общая прибыль\n",
    "summ=df['item_price'].sum()\n",
    "summ"
   ]
  },
  {
   "cell_type": "code",
   "execution_count": 13,
   "metadata": {},
   "outputs": [
    {
     "data": {
      "text/plain": [
       "1834"
      ]
     },
     "execution_count": 13,
     "metadata": {},
     "output_type": "execute_result"
    }
   ],
   "source": [
    "#всего заказов\n",
    "len(df['order_id'].drop_duplicates())"
   ]
  },
  {
   "cell_type": "code",
   "execution_count": 14,
   "metadata": {},
   "outputs": [
    {
     "name": "stdout",
     "output_type": "stream",
     "text": [
      "          item_price\n",
      "order_id            \n",
      "1              11.56\n",
      "2              16.98\n",
      "3              12.67\n",
      "4              21.00\n",
      "5              13.70\n",
      "6              17.50\n",
      "7              15.70\n",
      "8              10.88\n",
      "9              10.67\n",
      "10             13.20\n",
      "11             12.38\n",
      "12             14.37\n",
      "13             10.88\n",
      "14             10.08\n",
      "15             10.88\n",
      "16             10.68\n",
      "17             10.08\n",
      "18             24.90\n",
      "19             13.90\n",
      "20             36.20\n",
      "21             23.36\n",
      "22             12.98\n",
      "23             11.17\n",
      "24             12.07\n",
      "25             11.38\n",
      "26             20.50\n",
      "27             13.90\n",
      "28             33.70\n",
      "29             17.98\n",
      "30             23.36\n",
      "...              ...\n",
      "1805           20.00\n",
      "1806           13.00\n",
      "1807           18.64\n",
      "1808           13.70\n",
      "1809           14.45\n",
      "1810           23.00\n",
      "1811           29.25\n",
      "1812           22.50\n",
      "1813           17.50\n",
      "1814           13.70\n",
      "1815           12.50\n",
      "1816           13.20\n",
      "1817           13.00\n",
      "1818           18.14\n",
      "1819           13.20\n",
      "1820           12.50\n",
      "1821           13.70\n",
      "1822           23.00\n",
      "1823           12.15\n",
      "1824           26.95\n",
      "1825           66.50\n",
      "1826           15.95\n",
      "1827           32.95\n",
      "1828           14.45\n",
      "1829           24.25\n",
      "1830           23.00\n",
      "1831           12.90\n",
      "1832           13.20\n",
      "1833           23.50\n",
      "1834           28.75\n",
      "\n",
      "[1834 rows x 1 columns]\n"
     ]
    },
    {
     "data": {
      "text/plain": [
       "18.81142857142869"
      ]
     },
     "execution_count": 14,
     "metadata": {},
     "output_type": "execute_result"
    }
   ],
   "source": [
    "total_sum = pd.pivot_table(df, aggfunc = sum, index = 'order_id', values = 'item_price')\n",
    "print(total_sum)\n",
    "total_sum['item_price'].mean()\n",
    "#средняя сумма за заказ"
   ]
  },
  {
   "cell_type": "code",
   "execution_count": 15,
   "metadata": {},
   "outputs": [
    {
     "data": {
      "text/html": [
       "<div>\n",
       "<style scoped>\n",
       "    .dataframe tbody tr th:only-of-type {\n",
       "        vertical-align: middle;\n",
       "    }\n",
       "\n",
       "    .dataframe tbody tr th {\n",
       "        vertical-align: top;\n",
       "    }\n",
       "\n",
       "    .dataframe thead th {\n",
       "        text-align: right;\n",
       "    }\n",
       "</style>\n",
       "<table border=\"1\" class=\"dataframe\">\n",
       "  <thead>\n",
       "    <tr style=\"text-align: right;\">\n",
       "      <th></th>\n",
       "      <th>date</th>\n",
       "      <th>order_id</th>\n",
       "    </tr>\n",
       "  </thead>\n",
       "  <tbody>\n",
       "    <tr>\n",
       "      <th>0</th>\n",
       "      <td>2017-01-04</td>\n",
       "      <td>0</td>\n",
       "    </tr>\n",
       "    <tr>\n",
       "      <th>1</th>\n",
       "      <td>2017-01-27</td>\n",
       "      <td>1</td>\n",
       "    </tr>\n",
       "    <tr>\n",
       "      <th>2</th>\n",
       "      <td>2017-01-27</td>\n",
       "      <td>2</td>\n",
       "    </tr>\n",
       "    <tr>\n",
       "      <th>3</th>\n",
       "      <td>2017-01-23</td>\n",
       "      <td>3</td>\n",
       "    </tr>\n",
       "    <tr>\n",
       "      <th>4</th>\n",
       "      <td>2017-01-24</td>\n",
       "      <td>4</td>\n",
       "    </tr>\n",
       "    <tr>\n",
       "      <th>5</th>\n",
       "      <td>2017-01-21</td>\n",
       "      <td>5</td>\n",
       "    </tr>\n",
       "    <tr>\n",
       "      <th>6</th>\n",
       "      <td>2017-01-07</td>\n",
       "      <td>6</td>\n",
       "    </tr>\n",
       "    <tr>\n",
       "      <th>7</th>\n",
       "      <td>2017-01-18</td>\n",
       "      <td>7</td>\n",
       "    </tr>\n",
       "    <tr>\n",
       "      <th>8</th>\n",
       "      <td>2017-01-19</td>\n",
       "      <td>8</td>\n",
       "    </tr>\n",
       "    <tr>\n",
       "      <th>9</th>\n",
       "      <td>2017-01-22</td>\n",
       "      <td>9</td>\n",
       "    </tr>\n",
       "    <tr>\n",
       "      <th>10</th>\n",
       "      <td>2017-01-31</td>\n",
       "      <td>10</td>\n",
       "    </tr>\n",
       "    <tr>\n",
       "      <th>11</th>\n",
       "      <td>2017-01-02</td>\n",
       "      <td>11</td>\n",
       "    </tr>\n",
       "    <tr>\n",
       "      <th>12</th>\n",
       "      <td>2017-01-03</td>\n",
       "      <td>12</td>\n",
       "    </tr>\n",
       "    <tr>\n",
       "      <th>13</th>\n",
       "      <td>2017-01-06</td>\n",
       "      <td>13</td>\n",
       "    </tr>\n",
       "    <tr>\n",
       "      <th>14</th>\n",
       "      <td>2017-01-17</td>\n",
       "      <td>14</td>\n",
       "    </tr>\n",
       "    <tr>\n",
       "      <th>15</th>\n",
       "      <td>2017-01-09</td>\n",
       "      <td>15</td>\n",
       "    </tr>\n",
       "    <tr>\n",
       "      <th>16</th>\n",
       "      <td>2017-01-22</td>\n",
       "      <td>16</td>\n",
       "    </tr>\n",
       "    <tr>\n",
       "      <th>17</th>\n",
       "      <td>2017-01-26</td>\n",
       "      <td>17</td>\n",
       "    </tr>\n",
       "    <tr>\n",
       "      <th>18</th>\n",
       "      <td>2017-01-09</td>\n",
       "      <td>18</td>\n",
       "    </tr>\n",
       "    <tr>\n",
       "      <th>19</th>\n",
       "      <td>2017-01-25</td>\n",
       "      <td>19</td>\n",
       "    </tr>\n",
       "    <tr>\n",
       "      <th>20</th>\n",
       "      <td>2017-01-12</td>\n",
       "      <td>20</td>\n",
       "    </tr>\n",
       "    <tr>\n",
       "      <th>21</th>\n",
       "      <td>2017-01-09</td>\n",
       "      <td>21</td>\n",
       "    </tr>\n",
       "    <tr>\n",
       "      <th>22</th>\n",
       "      <td>2017-01-29</td>\n",
       "      <td>22</td>\n",
       "    </tr>\n",
       "    <tr>\n",
       "      <th>23</th>\n",
       "      <td>2017-01-17</td>\n",
       "      <td>23</td>\n",
       "    </tr>\n",
       "    <tr>\n",
       "      <th>24</th>\n",
       "      <td>2017-01-10</td>\n",
       "      <td>24</td>\n",
       "    </tr>\n",
       "    <tr>\n",
       "      <th>25</th>\n",
       "      <td>2017-01-15</td>\n",
       "      <td>25</td>\n",
       "    </tr>\n",
       "    <tr>\n",
       "      <th>26</th>\n",
       "      <td>2017-01-04</td>\n",
       "      <td>26</td>\n",
       "    </tr>\n",
       "    <tr>\n",
       "      <th>27</th>\n",
       "      <td>2017-01-09</td>\n",
       "      <td>27</td>\n",
       "    </tr>\n",
       "    <tr>\n",
       "      <th>28</th>\n",
       "      <td>2017-01-30</td>\n",
       "      <td>28</td>\n",
       "    </tr>\n",
       "    <tr>\n",
       "      <th>29</th>\n",
       "      <td>2017-01-17</td>\n",
       "      <td>29</td>\n",
       "    </tr>\n",
       "    <tr>\n",
       "      <th>...</th>\n",
       "      <td>...</td>\n",
       "      <td>...</td>\n",
       "    </tr>\n",
       "    <tr>\n",
       "      <th>1770</th>\n",
       "      <td>2017-01-23</td>\n",
       "      <td>1770</td>\n",
       "    </tr>\n",
       "    <tr>\n",
       "      <th>1771</th>\n",
       "      <td>2017-01-18</td>\n",
       "      <td>1771</td>\n",
       "    </tr>\n",
       "    <tr>\n",
       "      <th>1772</th>\n",
       "      <td>2017-01-04</td>\n",
       "      <td>1772</td>\n",
       "    </tr>\n",
       "    <tr>\n",
       "      <th>1773</th>\n",
       "      <td>2017-01-26</td>\n",
       "      <td>1773</td>\n",
       "    </tr>\n",
       "    <tr>\n",
       "      <th>1774</th>\n",
       "      <td>2017-01-19</td>\n",
       "      <td>1774</td>\n",
       "    </tr>\n",
       "    <tr>\n",
       "      <th>1775</th>\n",
       "      <td>2017-01-30</td>\n",
       "      <td>1775</td>\n",
       "    </tr>\n",
       "    <tr>\n",
       "      <th>1776</th>\n",
       "      <td>2017-01-16</td>\n",
       "      <td>1776</td>\n",
       "    </tr>\n",
       "    <tr>\n",
       "      <th>1777</th>\n",
       "      <td>2017-01-14</td>\n",
       "      <td>1777</td>\n",
       "    </tr>\n",
       "    <tr>\n",
       "      <th>1778</th>\n",
       "      <td>2017-01-24</td>\n",
       "      <td>1778</td>\n",
       "    </tr>\n",
       "    <tr>\n",
       "      <th>1779</th>\n",
       "      <td>2017-01-28</td>\n",
       "      <td>1779</td>\n",
       "    </tr>\n",
       "    <tr>\n",
       "      <th>1780</th>\n",
       "      <td>2017-01-03</td>\n",
       "      <td>1780</td>\n",
       "    </tr>\n",
       "    <tr>\n",
       "      <th>1781</th>\n",
       "      <td>2017-01-27</td>\n",
       "      <td>1781</td>\n",
       "    </tr>\n",
       "    <tr>\n",
       "      <th>1782</th>\n",
       "      <td>2017-01-14</td>\n",
       "      <td>1782</td>\n",
       "    </tr>\n",
       "    <tr>\n",
       "      <th>1783</th>\n",
       "      <td>2017-01-21</td>\n",
       "      <td>1783</td>\n",
       "    </tr>\n",
       "    <tr>\n",
       "      <th>1784</th>\n",
       "      <td>2017-01-31</td>\n",
       "      <td>1784</td>\n",
       "    </tr>\n",
       "    <tr>\n",
       "      <th>1785</th>\n",
       "      <td>2017-01-24</td>\n",
       "      <td>1785</td>\n",
       "    </tr>\n",
       "    <tr>\n",
       "      <th>1786</th>\n",
       "      <td>2017-01-21</td>\n",
       "      <td>1786</td>\n",
       "    </tr>\n",
       "    <tr>\n",
       "      <th>1787</th>\n",
       "      <td>2017-02-01</td>\n",
       "      <td>1787</td>\n",
       "    </tr>\n",
       "    <tr>\n",
       "      <th>1788</th>\n",
       "      <td>2017-01-25</td>\n",
       "      <td>1788</td>\n",
       "    </tr>\n",
       "    <tr>\n",
       "      <th>1789</th>\n",
       "      <td>2017-01-02</td>\n",
       "      <td>1789</td>\n",
       "    </tr>\n",
       "    <tr>\n",
       "      <th>1790</th>\n",
       "      <td>2017-01-17</td>\n",
       "      <td>1790</td>\n",
       "    </tr>\n",
       "    <tr>\n",
       "      <th>1791</th>\n",
       "      <td>2017-01-02</td>\n",
       "      <td>1791</td>\n",
       "    </tr>\n",
       "    <tr>\n",
       "      <th>1792</th>\n",
       "      <td>2017-01-21</td>\n",
       "      <td>1792</td>\n",
       "    </tr>\n",
       "    <tr>\n",
       "      <th>1793</th>\n",
       "      <td>2017-01-22</td>\n",
       "      <td>1793</td>\n",
       "    </tr>\n",
       "    <tr>\n",
       "      <th>1794</th>\n",
       "      <td>2017-01-03</td>\n",
       "      <td>1794</td>\n",
       "    </tr>\n",
       "    <tr>\n",
       "      <th>1795</th>\n",
       "      <td>2017-01-23</td>\n",
       "      <td>1795</td>\n",
       "    </tr>\n",
       "    <tr>\n",
       "      <th>1796</th>\n",
       "      <td>2017-01-04</td>\n",
       "      <td>1796</td>\n",
       "    </tr>\n",
       "    <tr>\n",
       "      <th>1797</th>\n",
       "      <td>2017-01-27</td>\n",
       "      <td>1797</td>\n",
       "    </tr>\n",
       "    <tr>\n",
       "      <th>1798</th>\n",
       "      <td>2017-01-11</td>\n",
       "      <td>1798</td>\n",
       "    </tr>\n",
       "    <tr>\n",
       "      <th>1799</th>\n",
       "      <td>2017-01-20</td>\n",
       "      <td>1799</td>\n",
       "    </tr>\n",
       "  </tbody>\n",
       "</table>\n",
       "<p>1800 rows × 2 columns</p>\n",
       "</div>"
      ],
      "text/plain": [
       "           date  order_id\n",
       "0    2017-01-04         0\n",
       "1    2017-01-27         1\n",
       "2    2017-01-27         2\n",
       "3    2017-01-23         3\n",
       "4    2017-01-24         4\n",
       "5    2017-01-21         5\n",
       "6    2017-01-07         6\n",
       "7    2017-01-18         7\n",
       "8    2017-01-19         8\n",
       "9    2017-01-22         9\n",
       "10   2017-01-31        10\n",
       "11   2017-01-02        11\n",
       "12   2017-01-03        12\n",
       "13   2017-01-06        13\n",
       "14   2017-01-17        14\n",
       "15   2017-01-09        15\n",
       "16   2017-01-22        16\n",
       "17   2017-01-26        17\n",
       "18   2017-01-09        18\n",
       "19   2017-01-25        19\n",
       "20   2017-01-12        20\n",
       "21   2017-01-09        21\n",
       "22   2017-01-29        22\n",
       "23   2017-01-17        23\n",
       "24   2017-01-10        24\n",
       "25   2017-01-15        25\n",
       "26   2017-01-04        26\n",
       "27   2017-01-09        27\n",
       "28   2017-01-30        28\n",
       "29   2017-01-17        29\n",
       "...         ...       ...\n",
       "1770 2017-01-23      1770\n",
       "1771 2017-01-18      1771\n",
       "1772 2017-01-04      1772\n",
       "1773 2017-01-26      1773\n",
       "1774 2017-01-19      1774\n",
       "1775 2017-01-30      1775\n",
       "1776 2017-01-16      1776\n",
       "1777 2017-01-14      1777\n",
       "1778 2017-01-24      1778\n",
       "1779 2017-01-28      1779\n",
       "1780 2017-01-03      1780\n",
       "1781 2017-01-27      1781\n",
       "1782 2017-01-14      1782\n",
       "1783 2017-01-21      1783\n",
       "1784 2017-01-31      1784\n",
       "1785 2017-01-24      1785\n",
       "1786 2017-01-21      1786\n",
       "1787 2017-02-01      1787\n",
       "1788 2017-01-25      1788\n",
       "1789 2017-01-02      1789\n",
       "1790 2017-01-17      1790\n",
       "1791 2017-01-02      1791\n",
       "1792 2017-01-21      1792\n",
       "1793 2017-01-22      1793\n",
       "1794 2017-01-03      1794\n",
       "1795 2017-01-23      1795\n",
       "1796 2017-01-04      1796\n",
       "1797 2017-01-27      1797\n",
       "1798 2017-01-11      1798\n",
       "1799 2017-01-20      1799\n",
       "\n",
       "[1800 rows x 2 columns]"
      ]
     },
     "execution_count": 15,
     "metadata": {},
     "output_type": "execute_result"
    }
   ],
   "source": [
    "dfa = pd.DataFrame({\"date\": np.random.choice(pd.date_range(start=\"20170101\", end=\"20170201\"), size=1800),\n",
    "                   \"order_id\": range(1800)})\n",
    "dfa"
   ]
  },
  {
   "cell_type": "code",
   "execution_count": 16,
   "metadata": {},
   "outputs": [
    {
     "data": {
      "image/png": "[encoded data removed]",
      "text/plain": [
       "<Figure size 432x288 with 1 Axes>"
      ]
     },
     "metadata": {
      "needs_background": "light"
     },
     "output_type": "display_data"
    }
   ],
   "source": [
    "dfa['order_price']=total_sum['item_price']\n",
    "dfa.plot(x='date',y='order_price')\n",
    "plt.show()"
   ]
  },
  {
   "cell_type": "code",
   "execution_count": 17,
   "metadata": {},
   "outputs": [
    {
     "data": {
      "text/plain": [
       "298                         6 Pack Soft Drink\n",
       "39                              Barbacoa Bowl\n",
       "21                           Barbacoa Burrito\n",
       "168                     Barbacoa Crispy Tacos\n",
       "1229                      Barbacoa Salad Bowl\n",
       "56                        Barbacoa Soft Tacos\n",
       "34                              Bottled Water\n",
       "445                                      Bowl\n",
       "510                                   Burrito\n",
       "18                                Canned Soda\n",
       "263                         Canned Soft Drink\n",
       "33                              Carnitas Bowl\n",
       "27                           Carnitas Burrito\n",
       "554                     Carnitas Crispy Tacos\n",
       "3750                           Carnitas Salad\n",
       "1132                      Carnitas Salad Bowl\n",
       "237                       Carnitas Soft Tacos\n",
       "4                                Chicken Bowl\n",
       "16                            Chicken Burrito\n",
       "11                       Chicken Crispy Tacos\n",
       "250                             Chicken Salad\n",
       "44                         Chicken Salad Bowl\n",
       "12                         Chicken Soft Tacos\n",
       "40                                      Chips\n",
       "0                Chips and Fresh Tomato Salsa\n",
       "10                        Chips and Guacamole\n",
       "674         Chips and Mild Fresh Tomato Salsa\n",
       "233        Chips and Roasted Chili Corn Salsa\n",
       "191        Chips and Roasted Chili-Corn Salsa\n",
       "38      Chips and Tomatillo Green Chili Salsa\n",
       "111       Chips and Tomatillo Red Chili Salsa\n",
       "3       Chips and Tomatillo-Green Chili Salsa\n",
       "300       Chips and Tomatillo-Red Chili Salsa\n",
       "520                              Crispy Tacos\n",
       "1                                        Izze\n",
       "2                            Nantucket Nectar\n",
       "1414                                    Salad\n",
       "6                               Side of Chips\n",
       "54                                 Steak Bowl\n",
       "7                               Steak Burrito\n",
       "92                         Steak Crispy Tacos\n",
       "664                               Steak Salad\n",
       "281                          Steak Salad Bowl\n",
       "8                            Steak Soft Tacos\n",
       "62                                Veggie Bowl\n",
       "57                             Veggie Burrito\n",
       "1653                      Veggie Crispy Tacos\n",
       "1694                             Veggie Salad\n",
       "186                         Veggie Salad Bowl\n",
       "738                         Veggie Soft Tacos\n",
       "Name: item_name, dtype: object"
      ]
     },
     "execution_count": 17,
     "metadata": {},
     "output_type": "execute_result"
    }
   ],
   "source": [
    "#отсортировали по названию\n",
    "df['item_name'].drop_duplicates().sort_values()"
   ]
  },
  {
   "cell_type": "code",
   "execution_count": 18,
   "metadata": {},
   "outputs": [
    {
     "data": {
      "text/html": [
       "<div>\n",
       "<style scoped>\n",
       "    .dataframe tbody tr th:only-of-type {\n",
       "        vertical-align: middle;\n",
       "    }\n",
       "\n",
       "    .dataframe tbody tr th {\n",
       "        vertical-align: top;\n",
       "    }\n",
       "\n",
       "    .dataframe thead th {\n",
       "        text-align: right;\n",
       "    }\n",
       "</style>\n",
       "<table border=\"1\" class=\"dataframe\">\n",
       "  <thead>\n",
       "    <tr style=\"text-align: right;\">\n",
       "      <th></th>\n",
       "      <th>order_id</th>\n",
       "      <th>quantity</th>\n",
       "      <th>item_name</th>\n",
       "      <th>choice_description</th>\n",
       "      <th>item_price</th>\n",
       "    </tr>\n",
       "  </thead>\n",
       "  <tbody>\n",
       "    <tr>\n",
       "      <th>3389</th>\n",
       "      <td>1360</td>\n",
       "      <td>2</td>\n",
       "      <td>6 Pack Soft Drink</td>\n",
       "      <td>[Diet Coke]</td>\n",
       "      <td>12.98</td>\n",
       "    </tr>\n",
       "    <tr>\n",
       "      <th>341</th>\n",
       "      <td>148</td>\n",
       "      <td>1</td>\n",
       "      <td>6 Pack Soft Drink</td>\n",
       "      <td>[Diet Coke]</td>\n",
       "      <td>6.49</td>\n",
       "    </tr>\n",
       "    <tr>\n",
       "      <th>1849</th>\n",
       "      <td>749</td>\n",
       "      <td>1</td>\n",
       "      <td>6 Pack Soft Drink</td>\n",
       "      <td>[Coke]</td>\n",
       "      <td>6.49</td>\n",
       "    </tr>\n",
       "    <tr>\n",
       "      <th>1860</th>\n",
       "      <td>754</td>\n",
       "      <td>1</td>\n",
       "      <td>6 Pack Soft Drink</td>\n",
       "      <td>[Diet Coke]</td>\n",
       "      <td>6.49</td>\n",
       "    </tr>\n",
       "    <tr>\n",
       "      <th>2713</th>\n",
       "      <td>1076</td>\n",
       "      <td>1</td>\n",
       "      <td>6 Pack Soft Drink</td>\n",
       "      <td>[Coke]</td>\n",
       "      <td>6.49</td>\n",
       "    </tr>\n",
       "    <tr>\n",
       "      <th>3422</th>\n",
       "      <td>1373</td>\n",
       "      <td>1</td>\n",
       "      <td>6 Pack Soft Drink</td>\n",
       "      <td>[Coke]</td>\n",
       "      <td>6.49</td>\n",
       "    </tr>\n",
       "    <tr>\n",
       "      <th>553</th>\n",
       "      <td>230</td>\n",
       "      <td>1</td>\n",
       "      <td>6 Pack Soft Drink</td>\n",
       "      <td>[Diet Coke]</td>\n",
       "      <td>6.49</td>\n",
       "    </tr>\n",
       "    <tr>\n",
       "      <th>1916</th>\n",
       "      <td>774</td>\n",
       "      <td>1</td>\n",
       "      <td>6 Pack Soft Drink</td>\n",
       "      <td>[Diet Coke]</td>\n",
       "      <td>6.49</td>\n",
       "    </tr>\n",
       "    <tr>\n",
       "      <th>1922</th>\n",
       "      <td>776</td>\n",
       "      <td>1</td>\n",
       "      <td>6 Pack Soft Drink</td>\n",
       "      <td>[Coke]</td>\n",
       "      <td>6.49</td>\n",
       "    </tr>\n",
       "    <tr>\n",
       "      <th>1937</th>\n",
       "      <td>784</td>\n",
       "      <td>1</td>\n",
       "      <td>6 Pack Soft Drink</td>\n",
       "      <td>[Diet Coke]</td>\n",
       "      <td>6.49</td>\n",
       "    </tr>\n",
       "  </tbody>\n",
       "</table>\n",
       "</div>"
      ],
      "text/plain": [
       "      order_id  quantity          item_name choice_description  item_price\n",
       "3389      1360         2  6 Pack Soft Drink        [Diet Coke]       12.98\n",
       "341        148         1  6 Pack Soft Drink        [Diet Coke]        6.49\n",
       "1849       749         1  6 Pack Soft Drink             [Coke]        6.49\n",
       "1860       754         1  6 Pack Soft Drink        [Diet Coke]        6.49\n",
       "2713      1076         1  6 Pack Soft Drink             [Coke]        6.49\n",
       "3422      1373         1  6 Pack Soft Drink             [Coke]        6.49\n",
       "553        230         1  6 Pack Soft Drink        [Diet Coke]        6.49\n",
       "1916       774         1  6 Pack Soft Drink        [Diet Coke]        6.49\n",
       "1922       776         1  6 Pack Soft Drink             [Coke]        6.49\n",
       "1937       784         1  6 Pack Soft Drink        [Diet Coke]        6.49"
      ]
     },
     "execution_count": 18,
     "metadata": {},
     "output_type": "execute_result"
    }
   ],
   "source": [
    "df.sort_values(by='item_name').head(10)"
   ]
  },
  {
   "cell_type": "code",
   "execution_count": 19,
   "metadata": {},
   "outputs": [
    {
     "data": {
      "text/plain": [
       "quantity    18\n",
       "Name: Veggie Salad Bowl, dtype: int64"
      ]
     },
     "execution_count": 19,
     "metadata": {},
     "output_type": "execute_result"
    }
   ],
   "source": [
    "#смотрим сколько раз заказали Veggie Salad Bowl\n",
    "total_stats.loc['Veggie Salad Bowl']"
   ]
  },
  {
   "cell_type": "code",
   "execution_count": 20,
   "metadata": {},
   "outputs": [
    {
     "data": {
      "text/plain": [
       "24"
      ]
     },
     "execution_count": 20,
     "metadata": {},
     "output_type": "execute_result"
    }
   ],
   "source": [
    "# в скольких заказах Canned Soda была заказана более 1 раза\n",
    "total_order = pd.pivot_table(df, aggfunc = sum, index = 'order_id', columns = 'item_name', values = 'quantity')\n",
    "(total_order['Canned Soda']>1).astype(bool).sum()"
   ]
  },
  {
   "cell_type": "code",
   "execution_count": 21,
   "metadata": {},
   "outputs": [
    {
     "data": {
      "image/png": "[encoded data removed]",
      "text/plain": [
       "<Figure size 432x288 with 1 Axes>"
      ]
     },
     "metadata": {
      "needs_background": "light"
     },
     "output_type": "display_data"
    }
   ],
   "source": [
    "a = df.groupby(\"item_name\").sum()[\"quantity\"].sort_values(ascending=False)\n",
    "plt.hist(a[:5])\n",
    "plt.show()\n",
    "#5 самых покупаемых товаров,из них нужна гистограмма"
   ]
  },
  {
   "cell_type": "code",
   "execution_count": 22,
   "metadata": {},
   "outputs": [
    {
     "data": {
      "image/png": "[encoded data removed]",
      "text/plain": [
       "<Figure size 432x288 with 2 Axes>"
      ]
     },
     "metadata": {
      "needs_background": "light"
     },
     "output_type": "display_data"
    }
   ],
   "source": [
    "#Построить Scatterplot\n",
    "total_q = pd.pivot_table(df, aggfunc = sum, index = 'order_id',values = ['quantity','item_price'])\n",
    "total_q['order']=range(1,1835)\n",
    "ax=total_q.plot.scatter(x='quantity',y='item_price', c='order', colormap='viridis')"
   ]
  },
  {
   "cell_type": "code",
   "execution_count": null,
   "metadata": {},
   "outputs": [],
   "source": []
  }
 ],
 "metadata": {
  "kernelspec": {
   "display_name": "Python 3",
   "language": "python",
   "name": "python3"
  },
  "language_info": {
   "codemirror_mode": {
    "name": "ipython",
    "version": 3
   },
   "file_extension": ".py",
   "mimetype": "text/x-python",
   "name": "python",
   "nbconvert_exporter": "python",
   "pygments_lexer": "ipython3",
   "version": "3.7.1"
  }
 },
 "nbformat": 4,
 "nbformat_minor": 2
}

