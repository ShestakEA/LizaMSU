{
 "cells": [
  {
   "cell_type": "code",
   "execution_count": 1,
   "metadata": {},
   "outputs": [
    {
     "name": "stdout",
     "output_type": "stream",
     "text": [
      "Введите число: 20\n",
      "Число четное\n"
     ]
    }
   ],
   "source": [
    "num=int(input(\"Введите число: \"))\n",
    "if num%2==0:\n",
    "    print(\"Число четное\")\n",
    "else:\n",
    "    print(\"Число нечетное\")\n",
    "    "
   ]
  },
  {
   "cell_type": "code",
   "execution_count": 2,
   "metadata": {},
   "outputs": [
    {
     "data": {
      "text/plain": [
       "[1, 1, 2, 3]"
      ]
     },
     "execution_count": 2,
     "metadata": {},
     "output_type": "execute_result"
    }
   ],
   "source": [
    "a = [1, 1, 2, 3, 5, 8, 13, 21, 34, 55, 89]\n",
    "[x for x in a if x<5]\n"
   ]
  },
  {
   "cell_type": "code",
   "execution_count": 5,
   "metadata": {},
   "outputs": [
    {
     "name": "stdout",
     "output_type": "stream",
     "text": [
      "Введите число от 1 до 9:6\n",
      "Слишком много\n",
      "Введите число от 1 до 9:4\n",
      "Вы угадали!\n",
      "Вам потребовалось 2 попыток\n"
     ]
    }
   ],
   "source": [
    "import random \n",
    "my_num=random.randint(1,9)\n",
    "cnt=0\n",
    "num=0\n",
    "while num!=my_num and num!=\"выход\":\n",
    "    num=input(\"Введите число от 1 до 9:\")\n",
    "    if num==\"выход\":\n",
    "        break\n",
    "    num=int(num)\n",
    "    cnt+=1\n",
    "    if num<my_num:\n",
    "        print(\"Слишком мало\")\n",
    "    elif num>my_num:\n",
    "        print(\"Слишком много\")\n",
    "    else:\n",
    "        print(\"Вы угадали!\")\n",
    "        print(\"Вам потребовалось\",cnt,\"попыток\")\n",
    "        "
   ]
  },
  {
   "cell_type": "code",
   "execution_count": 7,
   "metadata": {},
   "outputs": [
    {
     "name": "stdout",
     "output_type": "stream",
     "text": [
      "Введите желаемое количество символов: 7\n"
     ]
    },
    {
     "data": {
      "text/plain": [
       "'IAbYVc<'"
      ]
     },
     "execution_count": 7,
     "metadata": {},
     "output_type": "execute_result"
    }
   ],
   "source": [
    "import random\n",
    "s=\"abwertyuiopqzxcvbnm01234567890QWERTYUIOPLKJHGFDXCVBNM<LKJHGFDSA\"\n",
    "num=int(input(\"Введите желаемое количество символов: \"))\n",
    "password=\"\".join(random.sample(s,num))\n",
    "password"
   ]
  },
  {
   "cell_type": "code",
   "execution_count": 11,
   "metadata": {},
   "outputs": [
    {
     "name": "stdout",
     "output_type": "stream",
     "text": [
      "Введите уровень сложности от 1 до 3:3\n"
     ]
    },
    {
     "data": {
      "text/plain": [
       "'YGUENF9CD7'"
      ]
     },
     "execution_count": 11,
     "metadata": {},
     "output_type": "execute_result"
    }
   ],
   "source": [
    "import random\n",
    "def generate(x):\n",
    "    if x==1:\n",
    "        s1=\"asdfghjklzxccvbnwe\"\n",
    "        return \"\".join(random.sample(s1,6))\n",
    "    elif x==2:\n",
    "        s2=\"asdfghjklzxcvbnqwertyuiASDFGHJKZXCVBNMQWERTYUI\"\n",
    "        return \"\".join(random.sample(s2,8))\n",
    "    elif x==3:\n",
    "        s3=\"asdfghjkklzxcvbnm,mqwerty123456789QWERTYUISDFGHJKZXCVBNM\"\n",
    "        return \"\".join(random.sample(s3,10))\n",
    "    \n",
    "num=int(input(\"Введите уровень сложности от 1 до 3:\"))\n",
    "password=generate(num)\n",
    "password"
   ]
  },
  {
   "cell_type": "code",
   "execution_count": null,
   "metadata": {},
   "outputs": [],
   "source": []
  }
 ],
 "metadata": {
  "kernelspec": {
   "display_name": "Python 3",
   "language": "python",
   "name": "python3"
  },
  "language_info": {
   "codemirror_mode": {
    "name": "ipython",
    "version": 3
   },
   "file_extension": ".py",
   "mimetype": "text/x-python",
   "name": "python",
   "nbconvert_exporter": "python",
   "pygments_lexer": "ipython3",
   "version": "3.7.1"
  }
 },
 "nbformat": 4,
 "nbformat_minor": 2
}
